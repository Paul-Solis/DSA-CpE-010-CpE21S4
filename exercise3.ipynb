{
  "nbformat": 4,
  "nbformat_minor": 0,
  "metadata": {
    "colab": {
      "provenance": [],
      "authorship_tag": "ABX9TyPE8vUU8dkQgiH5ND24wATB",
      "include_colab_link": true
    },
    "kernelspec": {
      "name": "python3",
      "display_name": "Python 3"
    },
    "language_info": {
      "name": "python"
    }
  },
  "cells": [
    {
      "cell_type": "markdown",
      "metadata": {
        "id": "view-in-github",
        "colab_type": "text"
      },
      "source": [
        "<a href=\"https://colab.research.google.com/github/Paul-Solis/DSA-CpE-010-CpE21S4/blob/main/exercise3.ipynb\" target=\"_parent\"><img src=\"https://colab.research.google.com/assets/colab-badge.svg\" alt=\"Open In Colab\"/></a>"
      ]
    },
    {
      "cell_type": "code",
      "execution_count": null,
      "metadata": {
        "id": "XNWoazt8Wxci"
      },
      "outputs": [],
      "source": [
        "animals = [\"cat\", \"dog\", \"fish\"]\n",
        "x = animals[0]\n",
        "print(x)"
      ]
    },
    {
      "cell_type": "code",
      "source": [
        "animals = [\"cat\", \"dog\", \"fish\"]\n",
        "animals[0] = 'monkey'\n",
        "print(animals)"
      ],
      "metadata": {
        "id": "QQBmIc7eWzAo"
      },
      "execution_count": null,
      "outputs": []
    },
    {
      "cell_type": "code",
      "source": [
        "x = len(animals)\n",
        "print(x)"
      ],
      "metadata": {
        "id": "l-qI6LrBW1X5"
      },
      "execution_count": null,
      "outputs": []
    },
    {
      "cell_type": "code",
      "source": [
        "animals= ['monkey', 'cat','dog','fish']\n",
        "for x in animals:\n",
        "  print(x)"
      ],
      "metadata": {
        "id": "1-wLgkDLW4pI"
      },
      "execution_count": null,
      "outputs": []
    },
    {
      "cell_type": "code",
      "source": [
        "animals= ['monkey', 'cat', 'dog', 'fish']\n",
        "animals.append('bird')\n",
        "print(animals)"
      ],
      "metadata": {
        "id": "gfao6bTTW6Nw"
      },
      "execution_count": null,
      "outputs": []
    },
    {
      "cell_type": "code",
      "source": [
        "animals = ['monkey', 'cat', 'dog','fish']\n",
        "animals.pop(2)\n",
        "print(animals)"
      ],
      "metadata": {
        "id": "glnYiP_FW8g4"
      },
      "execution_count": null,
      "outputs": []
    },
    {
      "cell_type": "code",
      "source": [
        "#Inserting an animal in a specific location using insert()\n",
        "animals = ['monkey', 'cat', 'dog','fish']\n",
        "animals.insert(1, \"bird\")\n",
        "print(animals)"
      ],
      "metadata": {
        "id": "X0nHp7kAW_Uw"
      },
      "execution_count": null,
      "outputs": []
    },
    {
      "cell_type": "code",
      "source": [
        "#Remove the item in the specified index value using remove()\n",
        "animals = ['monkey', 'cat', 'dog','fish']\n",
        "animals.remove('monkey')\n",
        "print(animals)"
      ],
      "metadata": {
        "id": "oQ6xbYlaXA8R"
      },
      "execution_count": null,
      "outputs": []
    },
    {
      "cell_type": "code",
      "source": [
        "#Reverse all items\n",
        "animals = ['monkey', 'cat', 'dog','fish']\n",
        "animals.reverse()\n",
        "print(animals)"
      ],
      "metadata": {
        "id": "cLeWjLvtXGvQ"
      },
      "execution_count": null,
      "outputs": []
    }
  ]
}