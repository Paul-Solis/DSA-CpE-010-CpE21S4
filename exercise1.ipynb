{
  "nbformat": 4,
  "nbformat_minor": 0,
  "metadata": {
    "colab": {
      "provenance": [],
      "authorship_tag": "ABX9TyO8GiCY24wcS0WwQf1tKTfJ",
      "include_colab_link": true
    },
    "kernelspec": {
      "name": "python3",
      "display_name": "Python 3"
    },
    "language_info": {
      "name": "python"
    }
  },
  "cells": [
    {
      "cell_type": "markdown",
      "metadata": {
        "id": "view-in-github",
        "colab_type": "text"
      },
      "source": [
        "<a href=\"https://colab.research.google.com/github/Paul-Solis/DSA-CpE-010-CpE21S4/blob/main/exercise1.ipynb\" target=\"_parent\"><img src=\"https://colab.research.google.com/assets/colab-badge.svg\" alt=\"Open In Colab\"/></a>"
      ]
    },
    {
      "cell_type": "code",
      "execution_count": 7,
      "metadata": {
        "colab": {
          "base_uri": "https://localhost:8080/"
        },
        "id": "P-uhwCa6mLlV",
        "outputId": "29ba4259-700f-4d4f-af3d-99c6b8e03730"
      },
      "outputs": [
        {
          "output_type": "stream",
          "name": "stdout",
          "text": [
            "Enter the value of length:5\n",
            "Enter the value of width: 5\n",
            "The area of the rectangle is:  25\n"
          ]
        }
      ],
      "source": [
        "def rectangle():\n",
        "  length = int(input(\"Enter the value of length:\"))\n",
        "  width = int(input(\"Enter the value of width: \"))\n",
        "  area = width * length\n",
        "  print(\"The area of the rectangle is: \", area)\n",
        "\n",
        "rectangle()"
      ]
    }
  ]
}